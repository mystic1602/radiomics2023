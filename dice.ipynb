{
 "cells": [
  {
   "cell_type": "code",
   "execution_count": 16,
   "id": "312b5078",
   "metadata": {},
   "outputs": [
    {
     "data": {
      "text/plain": [
       "0.8903217"
      ]
     },
     "execution_count": 16,
     "metadata": {},
     "output_type": "execute_result"
    }
   ],
   "source": [
    "import numpy as np\n",
    "import nibabel as nib\n",
    "\n",
    "def cal_subject_level_dice(prediction, target, class_num=2):\n",
    "    '''\n",
    "    step1: calculate the dice of each category\n",
    "    step2: remove the dice of the empty category and background, and then calculate the mean of the remaining dices.\n",
    "    :param prediction: the automated segmentation result, a numpy array with shape of (h, w, d)\n",
    "    :param target: the ground truth mask, a numpy array with shape of (h, w, d)\n",
    "    :param class_num: total number of categories\n",
    "    :return:\n",
    "    '''\n",
    "    eps = 1e-10\n",
    "    empty_value = -1.0\n",
    "    dscs = empty_value * np.ones((class_num), dtype=np.float32)\n",
    "    for i in range(0, class_num):\n",
    "        if i not in target and i not in prediction:\n",
    "            continue\n",
    "        target_per_class = np.where(target == i, 1, 0).astype(np.float32)\n",
    "        prediction_per_class = np.where(prediction == i, 1, 0).astype(np.float32)\n",
    "        \n",
    "        \n",
    "        tp = np.sum(prediction_per_class*target_per_class)\n",
    "        \n",
    "        fp = np.sum(prediction_per_class) - tp\n",
    "        fn = np.sum(target_per_class) - tp\n",
    "        dsc = 2 * tp / (2 * tp + fp + fn + eps)\n",
    "        dscs[i] = dsc\n",
    "    dscs = np.where(dscs == -1.0, np.nan, dscs)\n",
    "    subject_level_dice = np.nanmean(dscs[1:])\n",
    "    return subject_level_dice\n",
    "\n",
    "def evaluate_demo(prediction_nii_files, target_nii_files):\n",
    "    '''\n",
    "    This is a demo for calculating the mean dice of all subjects.\n",
    "    :param prediction_nii_files: a list which contains the .nii file paths of predicted segmentation\n",
    "    :param target_nii_files: a list which contains the .nii file paths of ground truth mask\n",
    "    :return:\n",
    "    '''\n",
    "    dscs = []\n",
    "    for prediction_nii_file, target_nii_file in zip(prediction_nii_files, target_nii_files):\n",
    "        prediction_nii = nib.load(prediction_nii_file)\n",
    "        prediction = prediction_nii.get_fdata()\n",
    "        target_nii = nib.load(target_nii_file)\n",
    "        target = target_nii.get_fdata()\n",
    "        dsc = cal_subject_level_dice(prediction, target, class_num=2)\n",
    "        dscs.append(dsc)\n",
    "    return np.mean(dscs)\n",
    "\n",
    "evaluate_demo(['C:/dice/3/10-1-2.nii'],['C:/dice/3/10-2-2.nii'])"
   ]
  },
  {
   "cell_type": "code",
   "execution_count": null,
   "id": "4b46cf3d",
   "metadata": {},
   "outputs": [],
   "source": []
  }
 ],
 "metadata": {
  "kernelspec": {
   "display_name": "Python 3 (ipykernel)",
   "language": "python",
   "name": "python3"
  },
  "language_info": {
   "codemirror_mode": {
    "name": "ipython",
    "version": 3
   },
   "file_extension": ".py",
   "mimetype": "text/x-python",
   "name": "python",
   "nbconvert_exporter": "python",
   "pygments_lexer": "ipython3",
   "version": "3.9.13"
  }
 },
 "nbformat": 4,
 "nbformat_minor": 5
}
